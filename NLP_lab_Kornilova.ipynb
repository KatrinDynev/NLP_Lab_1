{
  "nbformat": 4,
  "nbformat_minor": 0,
  "metadata": {
    "colab": {
      "provenance": [],
      "collapsed_sections": []
    },
    "kernelspec": {
      "name": "python3",
      "display_name": "Python 3"
    },
    "language_info": {
      "name": "python"
    },
    "widgets": {
      "application/vnd.jupyter.widget-state+json": {
        "a90562070ce6418abf6ab2fa4a15a554": {
          "model_module": "@jupyter-widgets/controls",
          "model_name": "HBoxModel",
          "model_module_version": "1.5.0",
          "state": {
            "_dom_classes": [],
            "_model_module": "@jupyter-widgets/controls",
            "_model_module_version": "1.5.0",
            "_model_name": "HBoxModel",
            "_view_count": null,
            "_view_module": "@jupyter-widgets/controls",
            "_view_module_version": "1.5.0",
            "_view_name": "HBoxView",
            "box_style": "",
            "children": [
              "IPY_MODEL_e98e486463474c48bc4a28777d8b5ab8",
              "IPY_MODEL_9df1d26f72234f549e6d1803b27ea5bb",
              "IPY_MODEL_59d415c0834a4e1b814cce8806628159"
            ],
            "layout": "IPY_MODEL_6bcb4a2f4c344f2ab36b4e5b43462b20"
          }
        },
        "e98e486463474c48bc4a28777d8b5ab8": {
          "model_module": "@jupyter-widgets/controls",
          "model_name": "HTMLModel",
          "model_module_version": "1.5.0",
          "state": {
            "_dom_classes": [],
            "_model_module": "@jupyter-widgets/controls",
            "_model_module_version": "1.5.0",
            "_model_name": "HTMLModel",
            "_view_count": null,
            "_view_module": "@jupyter-widgets/controls",
            "_view_module_version": "1.5.0",
            "_view_name": "HTMLView",
            "description": "",
            "description_tooltip": null,
            "layout": "IPY_MODEL_e7442bba1a224890835807641ee827d9",
            "placeholder": "​",
            "style": "IPY_MODEL_a7ead5abe8564746b2f44d1c486c0f4a",
            "value": "100%"
          }
        },
        "9df1d26f72234f549e6d1803b27ea5bb": {
          "model_module": "@jupyter-widgets/controls",
          "model_name": "FloatProgressModel",
          "model_module_version": "1.5.0",
          "state": {
            "_dom_classes": [],
            "_model_module": "@jupyter-widgets/controls",
            "_model_module_version": "1.5.0",
            "_model_name": "FloatProgressModel",
            "_view_count": null,
            "_view_module": "@jupyter-widgets/controls",
            "_view_module_version": "1.5.0",
            "_view_name": "ProgressView",
            "bar_style": "success",
            "description": "",
            "description_tooltip": null,
            "layout": "IPY_MODEL_e970448d0dbe4ec696821c8afc49f155",
            "max": 957,
            "min": 0,
            "orientation": "horizontal",
            "style": "IPY_MODEL_732da8586cf24c9a9dd3067b4b3ae8b3",
            "value": 957
          }
        },
        "59d415c0834a4e1b814cce8806628159": {
          "model_module": "@jupyter-widgets/controls",
          "model_name": "HTMLModel",
          "model_module_version": "1.5.0",
          "state": {
            "_dom_classes": [],
            "_model_module": "@jupyter-widgets/controls",
            "_model_module_version": "1.5.0",
            "_model_name": "HTMLModel",
            "_view_count": null,
            "_view_module": "@jupyter-widgets/controls",
            "_view_module_version": "1.5.0",
            "_view_name": "HTMLView",
            "description": "",
            "description_tooltip": null,
            "layout": "IPY_MODEL_cc0f1dbe953647d3a0f42b85975a3ffa",
            "placeholder": "​",
            "style": "IPY_MODEL_8c6e9f58700a4684b1d15481204ab632",
            "value": " 957/957 [00:00&lt;00:00, 3578.59it/s]"
          }
        },
        "6bcb4a2f4c344f2ab36b4e5b43462b20": {
          "model_module": "@jupyter-widgets/base",
          "model_name": "LayoutModel",
          "model_module_version": "1.2.0",
          "state": {
            "_model_module": "@jupyter-widgets/base",
            "_model_module_version": "1.2.0",
            "_model_name": "LayoutModel",
            "_view_count": null,
            "_view_module": "@jupyter-widgets/base",
            "_view_module_version": "1.2.0",
            "_view_name": "LayoutView",
            "align_content": null,
            "align_items": null,
            "align_self": null,
            "border": null,
            "bottom": null,
            "display": null,
            "flex": null,
            "flex_flow": null,
            "grid_area": null,
            "grid_auto_columns": null,
            "grid_auto_flow": null,
            "grid_auto_rows": null,
            "grid_column": null,
            "grid_gap": null,
            "grid_row": null,
            "grid_template_areas": null,
            "grid_template_columns": null,
            "grid_template_rows": null,
            "height": null,
            "justify_content": null,
            "justify_items": null,
            "left": null,
            "margin": null,
            "max_height": null,
            "max_width": null,
            "min_height": null,
            "min_width": null,
            "object_fit": null,
            "object_position": null,
            "order": null,
            "overflow": null,
            "overflow_x": null,
            "overflow_y": null,
            "padding": null,
            "right": null,
            "top": null,
            "visibility": null,
            "width": null
          }
        },
        "e7442bba1a224890835807641ee827d9": {
          "model_module": "@jupyter-widgets/base",
          "model_name": "LayoutModel",
          "model_module_version": "1.2.0",
          "state": {
            "_model_module": "@jupyter-widgets/base",
            "_model_module_version": "1.2.0",
            "_model_name": "LayoutModel",
            "_view_count": null,
            "_view_module": "@jupyter-widgets/base",
            "_view_module_version": "1.2.0",
            "_view_name": "LayoutView",
            "align_content": null,
            "align_items": null,
            "align_self": null,
            "border": null,
            "bottom": null,
            "display": null,
            "flex": null,
            "flex_flow": null,
            "grid_area": null,
            "grid_auto_columns": null,
            "grid_auto_flow": null,
            "grid_auto_rows": null,
            "grid_column": null,
            "grid_gap": null,
            "grid_row": null,
            "grid_template_areas": null,
            "grid_template_columns": null,
            "grid_template_rows": null,
            "height": null,
            "justify_content": null,
            "justify_items": null,
            "left": null,
            "margin": null,
            "max_height": null,
            "max_width": null,
            "min_height": null,
            "min_width": null,
            "object_fit": null,
            "object_position": null,
            "order": null,
            "overflow": null,
            "overflow_x": null,
            "overflow_y": null,
            "padding": null,
            "right": null,
            "top": null,
            "visibility": null,
            "width": null
          }
        },
        "a7ead5abe8564746b2f44d1c486c0f4a": {
          "model_module": "@jupyter-widgets/controls",
          "model_name": "DescriptionStyleModel",
          "model_module_version": "1.5.0",
          "state": {
            "_model_module": "@jupyter-widgets/controls",
            "_model_module_version": "1.5.0",
            "_model_name": "DescriptionStyleModel",
            "_view_count": null,
            "_view_module": "@jupyter-widgets/base",
            "_view_module_version": "1.2.0",
            "_view_name": "StyleView",
            "description_width": ""
          }
        },
        "e970448d0dbe4ec696821c8afc49f155": {
          "model_module": "@jupyter-widgets/base",
          "model_name": "LayoutModel",
          "model_module_version": "1.2.0",
          "state": {
            "_model_module": "@jupyter-widgets/base",
            "_model_module_version": "1.2.0",
            "_model_name": "LayoutModel",
            "_view_count": null,
            "_view_module": "@jupyter-widgets/base",
            "_view_module_version": "1.2.0",
            "_view_name": "LayoutView",
            "align_content": null,
            "align_items": null,
            "align_self": null,
            "border": null,
            "bottom": null,
            "display": null,
            "flex": null,
            "flex_flow": null,
            "grid_area": null,
            "grid_auto_columns": null,
            "grid_auto_flow": null,
            "grid_auto_rows": null,
            "grid_column": null,
            "grid_gap": null,
            "grid_row": null,
            "grid_template_areas": null,
            "grid_template_columns": null,
            "grid_template_rows": null,
            "height": null,
            "justify_content": null,
            "justify_items": null,
            "left": null,
            "margin": null,
            "max_height": null,
            "max_width": null,
            "min_height": null,
            "min_width": null,
            "object_fit": null,
            "object_position": null,
            "order": null,
            "overflow": null,
            "overflow_x": null,
            "overflow_y": null,
            "padding": null,
            "right": null,
            "top": null,
            "visibility": null,
            "width": null
          }
        },
        "732da8586cf24c9a9dd3067b4b3ae8b3": {
          "model_module": "@jupyter-widgets/controls",
          "model_name": "ProgressStyleModel",
          "model_module_version": "1.5.0",
          "state": {
            "_model_module": "@jupyter-widgets/controls",
            "_model_module_version": "1.5.0",
            "_model_name": "ProgressStyleModel",
            "_view_count": null,
            "_view_module": "@jupyter-widgets/base",
            "_view_module_version": "1.2.0",
            "_view_name": "StyleView",
            "bar_color": null,
            "description_width": ""
          }
        },
        "cc0f1dbe953647d3a0f42b85975a3ffa": {
          "model_module": "@jupyter-widgets/base",
          "model_name": "LayoutModel",
          "model_module_version": "1.2.0",
          "state": {
            "_model_module": "@jupyter-widgets/base",
            "_model_module_version": "1.2.0",
            "_model_name": "LayoutModel",
            "_view_count": null,
            "_view_module": "@jupyter-widgets/base",
            "_view_module_version": "1.2.0",
            "_view_name": "LayoutView",
            "align_content": null,
            "align_items": null,
            "align_self": null,
            "border": null,
            "bottom": null,
            "display": null,
            "flex": null,
            "flex_flow": null,
            "grid_area": null,
            "grid_auto_columns": null,
            "grid_auto_flow": null,
            "grid_auto_rows": null,
            "grid_column": null,
            "grid_gap": null,
            "grid_row": null,
            "grid_template_areas": null,
            "grid_template_columns": null,
            "grid_template_rows": null,
            "height": null,
            "justify_content": null,
            "justify_items": null,
            "left": null,
            "margin": null,
            "max_height": null,
            "max_width": null,
            "min_height": null,
            "min_width": null,
            "object_fit": null,
            "object_position": null,
            "order": null,
            "overflow": null,
            "overflow_x": null,
            "overflow_y": null,
            "padding": null,
            "right": null,
            "top": null,
            "visibility": null,
            "width": null
          }
        },
        "8c6e9f58700a4684b1d15481204ab632": {
          "model_module": "@jupyter-widgets/controls",
          "model_name": "DescriptionStyleModel",
          "model_module_version": "1.5.0",
          "state": {
            "_model_module": "@jupyter-widgets/controls",
            "_model_module_version": "1.5.0",
            "_model_name": "DescriptionStyleModel",
            "_view_count": null,
            "_view_module": "@jupyter-widgets/base",
            "_view_module_version": "1.2.0",
            "_view_name": "StyleView",
            "description_width": ""
          }
        }
      }
    }
  },
  "cells": [
    {
      "cell_type": "code",
      "execution_count": 3,
      "metadata": {
        "colab": {
          "base_uri": "https://localhost:8080/"
        },
        "id": "Z2WKHYwz_PKS",
        "outputId": "2cc01105-ba46-45cb-9aee-150952702cf9"
      },
      "outputs": [
        {
          "output_type": "stream",
          "name": "stderr",
          "text": [
            "[nltk_data] Downloading package punkt to /root/nltk_data...\n",
            "[nltk_data]   Package punkt is already up-to-date!\n"
          ]
        }
      ],
      "source": [
        "import pandas as pd\n",
        "import numpy as np\n",
        "import nltk\n",
        "from nltk.stem.wordnet import WordNetLemmatizer\n",
        "from nltk.stem.porter import PorterStemmer\n",
        "import re\n",
        "import matplotlib.pyplot as plt\n",
        "import seaborn as sns\n",
        "\n",
        "from sklearn.feature_extraction.text import CountVectorizer\n",
        "from sklearn.feature_extraction.text import TfidfVectorizer\n",
        "from sklearn.model_selection import train_test_split\n",
        "from sklearn.metrics import accuracy_score\n",
        "\n",
        "from tqdm.notebook import tqdm\n",
        "from pymystem3 import Mystem\n",
        "from gensim.corpora import Dictionary\n",
        "\n",
        "from sklearn.linear_model import LogisticRegression\n",
        "from sklearn.naive_bayes import GaussianNB\n",
        "from sklearn.svm import SVC\n",
        "\n",
        "from timeit import default_timer as timer\n",
        "import nltk\n",
        "nltk.download('punkt')"
      ]
    },
    {
      "cell_type": "code",
      "source": [
        "# test = pd.read_csv('SMS_test.csv', encoding='latin-1')\n",
        "train = pd.read_csv('SMS_train.csv', encoding='latin-1')"
      ],
      "metadata": {
        "id": "jWrH7BU4_mMN"
      },
      "execution_count": 4,
      "outputs": []
    },
    {
      "cell_type": "code",
      "source": [
        "train.head()"
      ],
      "metadata": {
        "colab": {
          "base_uri": "https://localhost:8080/",
          "height": 204
        },
        "id": "3MNyyvBUE5gR",
        "outputId": "9c9ba0c6-3d32-44c2-b6dd-76728ed2e482"
      },
      "execution_count": 5,
      "outputs": [
        {
          "output_type": "execute_result",
          "data": {
            "text/plain": [
              "   S. No.                                       Message_body     Label\n",
              "0       1                         Rofl. Its true to its name  Non-Spam\n",
              "1       2  The guy did some bitching but I acted like i'd...  Non-Spam\n",
              "2       3  Pity, * was in mood for that. So...any other s...  Non-Spam\n",
              "3       4               Will ü b going to esplanade fr home?  Non-Spam\n",
              "4       5  This is the 2nd time we have tried 2 contact u...      Spam"
            ],
            "text/html": [
              "\n",
              "  <div id=\"df-f43289f2-c197-4b44-855e-4917ddb9ae12\">\n",
              "    <div class=\"colab-df-container\">\n",
              "      <div>\n",
              "<style scoped>\n",
              "    .dataframe tbody tr th:only-of-type {\n",
              "        vertical-align: middle;\n",
              "    }\n",
              "\n",
              "    .dataframe tbody tr th {\n",
              "        vertical-align: top;\n",
              "    }\n",
              "\n",
              "    .dataframe thead th {\n",
              "        text-align: right;\n",
              "    }\n",
              "</style>\n",
              "<table border=\"1\" class=\"dataframe\">\n",
              "  <thead>\n",
              "    <tr style=\"text-align: right;\">\n",
              "      <th></th>\n",
              "      <th>S. No.</th>\n",
              "      <th>Message_body</th>\n",
              "      <th>Label</th>\n",
              "    </tr>\n",
              "  </thead>\n",
              "  <tbody>\n",
              "    <tr>\n",
              "      <th>0</th>\n",
              "      <td>1</td>\n",
              "      <td>Rofl. Its true to its name</td>\n",
              "      <td>Non-Spam</td>\n",
              "    </tr>\n",
              "    <tr>\n",
              "      <th>1</th>\n",
              "      <td>2</td>\n",
              "      <td>The guy did some bitching but I acted like i'd...</td>\n",
              "      <td>Non-Spam</td>\n",
              "    </tr>\n",
              "    <tr>\n",
              "      <th>2</th>\n",
              "      <td>3</td>\n",
              "      <td>Pity, * was in mood for that. So...any other s...</td>\n",
              "      <td>Non-Spam</td>\n",
              "    </tr>\n",
              "    <tr>\n",
              "      <th>3</th>\n",
              "      <td>4</td>\n",
              "      <td>Will ü b going to esplanade fr home?</td>\n",
              "      <td>Non-Spam</td>\n",
              "    </tr>\n",
              "    <tr>\n",
              "      <th>4</th>\n",
              "      <td>5</td>\n",
              "      <td>This is the 2nd time we have tried 2 contact u...</td>\n",
              "      <td>Spam</td>\n",
              "    </tr>\n",
              "  </tbody>\n",
              "</table>\n",
              "</div>\n",
              "      <button class=\"colab-df-convert\" onclick=\"convertToInteractive('df-f43289f2-c197-4b44-855e-4917ddb9ae12')\"\n",
              "              title=\"Convert this dataframe to an interactive table.\"\n",
              "              style=\"display:none;\">\n",
              "        \n",
              "  <svg xmlns=\"http://www.w3.org/2000/svg\" height=\"24px\"viewBox=\"0 0 24 24\"\n",
              "       width=\"24px\">\n",
              "    <path d=\"M0 0h24v24H0V0z\" fill=\"none\"/>\n",
              "    <path d=\"M18.56 5.44l.94 2.06.94-2.06 2.06-.94-2.06-.94-.94-2.06-.94 2.06-2.06.94zm-11 1L8.5 8.5l.94-2.06 2.06-.94-2.06-.94L8.5 2.5l-.94 2.06-2.06.94zm10 10l.94 2.06.94-2.06 2.06-.94-2.06-.94-.94-2.06-.94 2.06-2.06.94z\"/><path d=\"M17.41 7.96l-1.37-1.37c-.4-.4-.92-.59-1.43-.59-.52 0-1.04.2-1.43.59L10.3 9.45l-7.72 7.72c-.78.78-.78 2.05 0 2.83L4 21.41c.39.39.9.59 1.41.59.51 0 1.02-.2 1.41-.59l7.78-7.78 2.81-2.81c.8-.78.8-2.07 0-2.86zM5.41 20L4 18.59l7.72-7.72 1.47 1.35L5.41 20z\"/>\n",
              "  </svg>\n",
              "      </button>\n",
              "      \n",
              "  <style>\n",
              "    .colab-df-container {\n",
              "      display:flex;\n",
              "      flex-wrap:wrap;\n",
              "      gap: 12px;\n",
              "    }\n",
              "\n",
              "    .colab-df-convert {\n",
              "      background-color: #E8F0FE;\n",
              "      border: none;\n",
              "      border-radius: 50%;\n",
              "      cursor: pointer;\n",
              "      display: none;\n",
              "      fill: #1967D2;\n",
              "      height: 32px;\n",
              "      padding: 0 0 0 0;\n",
              "      width: 32px;\n",
              "    }\n",
              "\n",
              "    .colab-df-convert:hover {\n",
              "      background-color: #E2EBFA;\n",
              "      box-shadow: 0px 1px 2px rgba(60, 64, 67, 0.3), 0px 1px 3px 1px rgba(60, 64, 67, 0.15);\n",
              "      fill: #174EA6;\n",
              "    }\n",
              "\n",
              "    [theme=dark] .colab-df-convert {\n",
              "      background-color: #3B4455;\n",
              "      fill: #D2E3FC;\n",
              "    }\n",
              "\n",
              "    [theme=dark] .colab-df-convert:hover {\n",
              "      background-color: #434B5C;\n",
              "      box-shadow: 0px 1px 3px 1px rgba(0, 0, 0, 0.15);\n",
              "      filter: drop-shadow(0px 1px 2px rgba(0, 0, 0, 0.3));\n",
              "      fill: #FFFFFF;\n",
              "    }\n",
              "  </style>\n",
              "\n",
              "      <script>\n",
              "        const buttonEl =\n",
              "          document.querySelector('#df-f43289f2-c197-4b44-855e-4917ddb9ae12 button.colab-df-convert');\n",
              "        buttonEl.style.display =\n",
              "          google.colab.kernel.accessAllowed ? 'block' : 'none';\n",
              "\n",
              "        async function convertToInteractive(key) {\n",
              "          const element = document.querySelector('#df-f43289f2-c197-4b44-855e-4917ddb9ae12');\n",
              "          const dataTable =\n",
              "            await google.colab.kernel.invokeFunction('convertToInteractive',\n",
              "                                                     [key], {});\n",
              "          if (!dataTable) return;\n",
              "\n",
              "          const docLinkHtml = 'Like what you see? Visit the ' +\n",
              "            '<a target=\"_blank\" href=https://colab.research.google.com/notebooks/data_table.ipynb>data table notebook</a>'\n",
              "            + ' to learn more about interactive tables.';\n",
              "          element.innerHTML = '';\n",
              "          dataTable['output_type'] = 'display_data';\n",
              "          await google.colab.output.renderOutput(dataTable, element);\n",
              "          const docLink = document.createElement('div');\n",
              "          docLink.innerHTML = docLinkHtml;\n",
              "          element.appendChild(docLink);\n",
              "        }\n",
              "      </script>\n",
              "    </div>\n",
              "  </div>\n",
              "  "
            ]
          },
          "metadata": {},
          "execution_count": 5
        }
      ]
    },
    {
      "cell_type": "code",
      "source": [
        "train.Label.value_counts()"
      ],
      "metadata": {
        "colab": {
          "base_uri": "https://localhost:8080/"
        },
        "id": "XU0AGHh0E99J",
        "outputId": "8008a592-4f25-40bd-9610-df239bc788a0"
      },
      "execution_count": 6,
      "outputs": [
        {
          "output_type": "execute_result",
          "data": {
            "text/plain": [
              "Non-Spam    835\n",
              "Spam        122\n",
              "Name: Label, dtype: int64"
            ]
          },
          "metadata": {},
          "execution_count": 6
        }
      ]
    },
    {
      "cell_type": "markdown",
      "source": [
        "## Предобработка текстов"
      ],
      "metadata": {
        "id": "cVH1zrAgjV0y"
      }
    },
    {
      "cell_type": "code",
      "source": [
        "# Пример текста без обработки\n",
        "train.Message_body[5]"
      ],
      "metadata": {
        "colab": {
          "base_uri": "https://localhost:8080/",
          "height": 54
        },
        "id": "dOIGnvttBOc3",
        "outputId": "ea2ef88e-0fbd-44e1-8036-a324b6c5c30e"
      },
      "execution_count": 7,
      "outputs": [
        {
          "output_type": "execute_result",
          "data": {
            "text/plain": [
              "'REMINDER FROM O2: To get 2.50 pounds free call credit and details of great offers pls reply 2 this text with your valid name, house no and postcode'"
            ],
            "application/vnd.google.colaboratory.intrinsic+json": {
              "type": "string"
            }
          },
          "metadata": {},
          "execution_count": 7
        }
      ]
    },
    {
      "cell_type": "code",
      "source": [
        "nltk.download(\"stopwords\")\n",
        "stemmer = Mystem()\n",
        "lemmatize = WordNetLemmatizer()\n",
        "#Слова паразиты\n",
        "stopwords = nltk.corpus.stopwords.words('english')"
      ],
      "metadata": {
        "colab": {
          "base_uri": "https://localhost:8080/"
        },
        "id": "Ny6dF1D5BThR",
        "outputId": "12355d26-1f87-47d5-e5db-cb9d127f086a"
      },
      "execution_count": 8,
      "outputs": [
        {
          "output_type": "stream",
          "name": "stderr",
          "text": [
            "[nltk_data] Downloading package stopwords to /root/nltk_data...\n",
            "[nltk_data]   Unzipping corpora/stopwords.zip.\n",
            "Installing mystem to /root/.local/bin/mystem from http://download.cdn.yandex.net/mystem/mystem-3.1-linux-64bit.tar.gz\n"
          ]
        }
      ]
    },
    {
      "cell_type": "code",
      "source": [
        "def preproc(simps):\n",
        "    corpus = []\n",
        "    for simp in tqdm(simps):\n",
        "        tokens = nltk.word_tokenize(simp.lower()) # преобразование к нижнему регистру\n",
        "        tokens = [w for w in tokens if w.isalpha()] # выбор только алфавитных значений\n",
        "        tokens = [w for w in tokens if w not in stopwords] # удаление слов паразитов и предлогов\n",
        "        # tokens = [stemmer.lemmatize(w) for w in tokens] # преобразование к начальной форме слова\n",
        "        tokens = [w for w in tokens if len(w)>2] # удление слов длиной меньше 3 сиволов\n",
        "        tokens = set(tokens) # оставляем только уникальные значения\n",
        "        corpus.append(' '.join(tokens))\n",
        "    return corpus"
      ],
      "metadata": {
        "id": "1G8ayeycBqrx"
      },
      "execution_count": 9,
      "outputs": []
    },
    {
      "cell_type": "code",
      "source": [
        "textes = train.Message_body.to_list()"
      ],
      "metadata": {
        "id": "oaObDd3qGCDJ"
      },
      "execution_count": 10,
      "outputs": []
    },
    {
      "cell_type": "code",
      "source": [
        "corpus = preproc(textes)"
      ],
      "metadata": {
        "colab": {
          "base_uri": "https://localhost:8080/",
          "height": 49,
          "referenced_widgets": [
            "a90562070ce6418abf6ab2fa4a15a554",
            "e98e486463474c48bc4a28777d8b5ab8",
            "9df1d26f72234f549e6d1803b27ea5bb",
            "59d415c0834a4e1b814cce8806628159",
            "6bcb4a2f4c344f2ab36b4e5b43462b20",
            "e7442bba1a224890835807641ee827d9",
            "a7ead5abe8564746b2f44d1c486c0f4a",
            "e970448d0dbe4ec696821c8afc49f155",
            "732da8586cf24c9a9dd3067b4b3ae8b3",
            "cc0f1dbe953647d3a0f42b85975a3ffa",
            "8c6e9f58700a4684b1d15481204ab632"
          ]
        },
        "id": "f79jJpnrBxNI",
        "outputId": "e7bb0058-e2b7-48d9-b023-3eb9ecdc0cb5"
      },
      "execution_count": 11,
      "outputs": [
        {
          "output_type": "display_data",
          "data": {
            "text/plain": [
              "  0%|          | 0/957 [00:00<?, ?it/s]"
            ],
            "application/vnd.jupyter.widget-view+json": {
              "version_major": 2,
              "version_minor": 0,
              "model_id": "a90562070ce6418abf6ab2fa4a15a554"
            }
          },
          "metadata": {}
        }
      ]
    },
    {
      "cell_type": "code",
      "source": [
        "# Пример текста после обработки\n",
        "corpus[5]"
      ],
      "metadata": {
        "id": "ySINJpJOB1Ad",
        "colab": {
          "base_uri": "https://localhost:8080/",
          "height": 37
        },
        "outputId": "dbb0f913-9811-456b-f850-b6f145020df9"
      },
      "execution_count": 12,
      "outputs": [
        {
          "output_type": "execute_result",
          "data": {
            "text/plain": [
              "'name free pounds offers call reply reminder great house postcode text credit details valid pls get'"
            ],
            "application/vnd.google.colaboratory.intrinsic+json": {
              "type": "string"
            }
          },
          "metadata": {},
          "execution_count": 12
        }
      ]
    },
    {
      "cell_type": "markdown",
      "source": [
        "## Векторизация текстов"
      ],
      "metadata": {
        "id": "hujAydmqjbTH"
      }
    },
    {
      "cell_type": "code",
      "source": [
        "# векторизация каждого слова метод CountVectorizer\n",
        "corpus_cvec = corpus.copy()\n",
        "cv = CountVectorizer(min_df=2, max_df=1.)\n",
        "cv.fit(corpus_cvec)\n",
        "transformed_cvec = cv.transform(corpus_cvec)\n",
        "dense_cvec = transformed_cvec.todense()"
      ],
      "metadata": {
        "id": "JNW0nDL5GZkp"
      },
      "execution_count": 13,
      "outputs": []
    },
    {
      "cell_type": "code",
      "source": [
        "# векторизация каждого слова метод TF/IDF\n",
        "corpus_tf = corpus.copy()\n",
        "tf = TfidfVectorizer(min_df=2, max_df=1.)\n",
        "tf.fit(corpus_tf)\n",
        "transformed_tf = tf.transform(corpus_tf)\n",
        "dense_tf = transformed_tf.todense()"
      ],
      "metadata": {
        "id": "ZLWB-VGSIRbD"
      },
      "execution_count": 14,
      "outputs": []
    },
    {
      "cell_type": "code",
      "source": [
        "# Разбивка выборки на тренировочную и тестовою\n",
        "X_tr, X_te, y_tr, y_te = train_test_split(np.array(dense_cvec), train['Label'])"
      ],
      "metadata": {
        "id": "ppaf5ab0IekT"
      },
      "execution_count": 15,
      "outputs": []
    },
    {
      "cell_type": "code",
      "source": [
        "# Логистическая регрессия\n",
        "lr_1 = LogisticRegression()\n",
        "lr_1.fit(X_tr, y_tr)\n",
        "svc_1 = SVC()\n",
        "svc_1.fit(X_tr, y_tr)"
      ],
      "metadata": {
        "colab": {
          "base_uri": "https://localhost:8080/"
        },
        "id": "5uaZjI-AIzi4",
        "outputId": "4400df9d-f5bf-4721-db3a-45446ccd2e07"
      },
      "execution_count": 16,
      "outputs": [
        {
          "output_type": "execute_result",
          "data": {
            "text/plain": [
              "SVC()"
            ]
          },
          "metadata": {},
          "execution_count": 16
        }
      ]
    },
    {
      "cell_type": "code",
      "source": [
        "# Разбивка выборки на тренировочную и тестовою\n",
        "X_tr, X_te, y_tr, y_te = train_test_split(np.array(dense_tf), train['Label'])"
      ],
      "metadata": {
        "id": "WNpUUBFWI9fa"
      },
      "execution_count": 17,
      "outputs": []
    },
    {
      "cell_type": "code",
      "source": [
        "# Логистическая регрессия\n",
        "lr_2 = LogisticRegression()\n",
        "lr_2.fit(X_tr, y_tr)\n",
        "svc_2 = SVC()\n",
        "svc_2.fit(X_tr, y_tr)"
      ],
      "metadata": {
        "colab": {
          "base_uri": "https://localhost:8080/"
        },
        "id": "Su1X0HOtJA2y",
        "outputId": "29c8841f-b5e6-4b95-aa53-e99dcbbbab06"
      },
      "execution_count": 18,
      "outputs": [
        {
          "output_type": "execute_result",
          "data": {
            "text/plain": [
              "SVC()"
            ]
          },
          "metadata": {},
          "execution_count": 18
        }
      ]
    },
    {
      "cell_type": "code",
      "source": [
        "print('Точность при CountVectorizer + Логистическая регрессия : ', round(accuracy_score(lr_1.predict(X_te), y_te),3))\n",
        "print('Точность при CountVectorizer + МОП : ', round(accuracy_score(svc_1.predict(X_te), y_te),3))\n",
        "print('Точность при TF/IDF + Логистическая регрессия : ', round(accuracy_score(lr_2.predict(X_te), y_te), 3))\n",
        "print('Точность при TF/IDF + МОП : ', round(accuracy_score(svc_2.predict(X_te), y_te), 3))"
      ],
      "metadata": {
        "colab": {
          "base_uri": "https://localhost:8080/"
        },
        "id": "ws2d48mNJDD0",
        "outputId": "bb4ae00a-5182-4800-dae6-ee46908a2e9a"
      },
      "execution_count": 19,
      "outputs": [
        {
          "output_type": "stream",
          "name": "stdout",
          "text": [
            "Точность при CountVectorizer + Логистическая регрессия :  0.867\n",
            "Точность при CountVectorizer + МОП :  0.867\n",
            "Точность при TF/IDF + Логистическая регрессия :  0.892\n",
            "Точность при TF/IDF + МОП :  0.925\n"
          ]
        }
      ]
    },
    {
      "cell_type": "markdown",
      "source": [
        "Наилучшие значения точности получены с помощью TF/IDF + МОП.\n",
        "## Нейронная сеть + OHE"
      ],
      "metadata": {
        "id": "n4nwbOI9jhQX"
      }
    },
    {
      "cell_type": "code",
      "source": [
        "import tensorflow as tf\n",
        "from tensorflow.keras import layers, models\n",
        "from keras_preprocessing.sequence import pad_sequences\n",
        "from keras_preprocessing.text import one_hot\n",
        "from keras.models import Sequential\n",
        "from keras.layers import Embedding\n",
        "from keras.layers import Dropout\n",
        "from keras.layers import LSTM\n",
        "from keras.layers import Dense"
      ],
      "metadata": {
        "id": "4P2sqA8fxSp2"
      },
      "execution_count": 30,
      "outputs": []
    },
    {
      "cell_type": "code",
      "source": [
        "all_words = []\n",
        "for sent in corpus:\n",
        "    tokenize_word = nltk.word_tokenize(sent)\n",
        "    for word in tokenize_word:\n",
        "        all_words.append(word)"
      ],
      "metadata": {
        "id": "2YlTDskKS-Wg"
      },
      "execution_count": 20,
      "outputs": []
    },
    {
      "cell_type": "code",
      "source": [
        "unique_words = set(all_words)\n",
        "print(len(unique_words))"
      ],
      "metadata": {
        "colab": {
          "base_uri": "https://localhost:8080/"
        },
        "id": "BBO2Jj1wS-ZE",
        "outputId": "2d0e643e-3eec-4e76-a667-818e1fbc9a25"
      },
      "execution_count": 21,
      "outputs": [
        {
          "output_type": "stream",
          "name": "stdout",
          "text": [
            "2540\n"
          ]
        }
      ]
    },
    {
      "cell_type": "code",
      "source": [
        "vocab_size = 2600"
      ],
      "metadata": {
        "id": "ZxCLga5fS-bt"
      },
      "execution_count": 22,
      "outputs": []
    },
    {
      "cell_type": "code",
      "source": [
        "word_count = lambda dense_tf: len(nltk.word_tokenize(dense_tf))\n",
        "longest_sentence = max(corpus, key= word_count)\n",
        "length_long_sentence = len(nltk.word_tokenize(longest_sentence))"
      ],
      "metadata": {
        "id": "h2wT1T_SPdiE"
      },
      "execution_count": 23,
      "outputs": []
    },
    {
      "cell_type": "code",
      "source": [
        "o_h_e = [one_hot(sent, vocab_size) for sent in corpus]"
      ],
      "metadata": {
        "id": "aChFU9MKWo2d"
      },
      "execution_count": 24,
      "outputs": []
    },
    {
      "cell_type": "code",
      "source": [
        "padded_ = pad_sequences(o_h_e, length_long_sentence, padding='post')"
      ],
      "metadata": {
        "id": "eo2CGHKIT3Np"
      },
      "execution_count": 25,
      "outputs": []
    },
    {
      "cell_type": "code",
      "source": [
        "model = Sequential([\n",
        "    Embedding(vocab_size,100,input_length=length_long_sentence),\n",
        "    Dropout(0.2),\n",
        "    LSTM(200),\n",
        "    Dropout(0.2),\n",
        "    Dense(1,activation='sigmoid')\n",
        "])"
      ],
      "metadata": {
        "id": "nyDUH-BJUs5Y"
      },
      "execution_count": 26,
      "outputs": []
    },
    {
      "cell_type": "code",
      "source": [
        "opt = tf.keras.optimizers.RMSprop(learning_rate=0.001)\n",
        "model.compile(optimizer=opt, loss='binary_crossentropy', metrics=['accuracy'])"
      ],
      "metadata": {
        "id": "Je4PltYFOjkL"
      },
      "execution_count": 31,
      "outputs": []
    },
    {
      "cell_type": "code",
      "source": [
        "predict = pd.DataFrame(train['Label'])\n",
        "predict['Code'] = 0\n",
        "predict.loc[predict.Label == 'Spam', 'Code'] = 1"
      ],
      "metadata": {
        "id": "OQYFWheqa_qD"
      },
      "execution_count": 32,
      "outputs": []
    },
    {
      "cell_type": "code",
      "source": [
        "# Разбивка выборки на тренировочную и тестовою\n",
        "X_tr, X_te, y_tr, y_te = train_test_split(np.array(padded_), predict['Code'])"
      ],
      "metadata": {
        "id": "kaTtayBpVe0h"
      },
      "execution_count": 33,
      "outputs": []
    },
    {
      "cell_type": "code",
      "source": [
        "model.fit(X_tr, y_tr, epochs=10, verbose=1)"
      ],
      "metadata": {
        "colab": {
          "base_uri": "https://localhost:8080/"
        },
        "id": "ue2k4tGmPrXf",
        "outputId": "720fe686-c30c-479a-d9cd-244e4b18088f"
      },
      "execution_count": 34,
      "outputs": [
        {
          "output_type": "stream",
          "name": "stdout",
          "text": [
            "Epoch 1/10\n",
            "23/23 [==============================] - 4s 73ms/step - loss: 0.3963 - accuracy: 0.8703\n",
            "Epoch 2/10\n",
            "23/23 [==============================] - 2s 69ms/step - loss: 0.3282 - accuracy: 0.8717\n",
            "Epoch 3/10\n",
            "23/23 [==============================] - 2s 69ms/step - loss: 0.1511 - accuracy: 0.9623\n",
            "Epoch 4/10\n",
            "23/23 [==============================] - 2s 71ms/step - loss: 0.0735 - accuracy: 0.9861\n",
            "Epoch 5/10\n",
            "23/23 [==============================] - 2s 70ms/step - loss: 0.1124 - accuracy: 0.9665\n",
            "Epoch 6/10\n",
            "23/23 [==============================] - 2s 70ms/step - loss: 0.0310 - accuracy: 0.9944\n",
            "Epoch 7/10\n",
            "23/23 [==============================] - 2s 71ms/step - loss: 0.0402 - accuracy: 0.9930\n",
            "Epoch 8/10\n",
            "23/23 [==============================] - 2s 68ms/step - loss: 0.3568 - accuracy: 0.8466\n",
            "Epoch 9/10\n",
            "23/23 [==============================] - 2s 69ms/step - loss: 0.3891 - accuracy: 0.8703\n",
            "Epoch 10/10\n",
            "23/23 [==============================] - 2s 69ms/step - loss: 0.3989 - accuracy: 0.8703\n"
          ]
        },
        {
          "output_type": "execute_result",
          "data": {
            "text/plain": [
              "<keras.callbacks.History at 0x7fba94734850>"
            ]
          },
          "metadata": {},
          "execution_count": 34
        }
      ]
    },
    {
      "cell_type": "code",
      "source": [
        "y_pred = model.predict(X_te)"
      ],
      "metadata": {
        "colab": {
          "base_uri": "https://localhost:8080/"
        },
        "id": "HA_4mdi4P7nq",
        "outputId": "b42d862b-ab8a-4f38-f2c8-4ede30b49fe4"
      },
      "execution_count": 35,
      "outputs": [
        {
          "output_type": "stream",
          "name": "stdout",
          "text": [
            "8/8 [==============================] - 0s 22ms/step\n"
          ]
        }
      ]
    },
    {
      "cell_type": "code",
      "source": [
        "round(accuracy_score(round(pd.DataFrame(y_pred)[0], 0),y_te)*100,2)"
      ],
      "metadata": {
        "colab": {
          "base_uri": "https://localhost:8080/"
        },
        "id": "ZlG7YlKmVTVt",
        "outputId": "62b143a9-2b27-42c9-c597-a75ab45d89af"
      },
      "execution_count": 36,
      "outputs": [
        {
          "output_type": "execute_result",
          "data": {
            "text/plain": [
              "87.92"
            ]
          },
          "metadata": {},
          "execution_count": 36
        }
      ]
    },
    {
      "cell_type": "markdown",
      "source": [
        "Комбинация TF/IDF + МОП является сильным инструментом, дающий хороший результат ( работает на уравне нейронных сетей или лучше) и на эту тему есть множество статей."
      ],
      "metadata": {
        "id": "lJfqRRPrj4cX"
      }
    },
    {
      "cell_type": "code",
      "source": [
        "pip freeze > requirements.txt"
      ],
      "metadata": {
        "id": "dnpvF90gkTts"
      },
      "execution_count": 41,
      "outputs": []
    },
    {
      "cell_type": "code",
      "source": [],
      "metadata": {
        "id": "TQVs9PACxbcV"
      },
      "execution_count": null,
      "outputs": []
    }
  ]
}